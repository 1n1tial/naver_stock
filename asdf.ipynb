{
 "cells": [
  {
   "cell_type": "code",
   "execution_count": 1,
   "metadata": {},
   "outputs": [],
   "source": [
    "import OpenDartReader\n",
    "from bs4 import BeautifulSoup\n",
    "import requests\n",
    "import pandas as pd\n",
    "import os"
   ]
  },
  {
   "cell_type": "code",
   "execution_count": 2,
   "metadata": {},
   "outputs": [],
   "source": [
    "url = 'https://docs.google.com/spreadsheets/d/1IunixzkpWvvNsIUJKN9JDZXRVWxVGFMpLBX-ht6tTVE/htmlview#'\n",
    "response = requests.get(url)\n",
    "\n",
    "soup = BeautifulSoup(response.content, 'html.parser')"
   ]
  },
  {
   "cell_type": "code",
   "execution_count": 3,
   "metadata": {},
   "outputs": [
    {
     "name": "stdout",
     "output_type": "stream",
     "text": [
      "코스피 095570 AJ네트웍스\n"
     ]
    }
   ],
   "source": [
    "body = soup.find('tbody')\n",
    "first_row = body.find_all('tr')[3]\n",
    "first_row_data = first_row.find_all('td')\n",
    "print(first_row_data[1].text, first_row_data[2].text, first_row_data[3].text) # 업종, 종목코드, 종목명"
   ]
  },
  {
   "cell_type": "code",
   "execution_count": 4,
   "metadata": {},
   "outputs": [
    {
     "data": {
      "text/html": [
       "<div>\n",
       "<style scoped>\n",
       "    .dataframe tbody tr th:only-of-type {\n",
       "        vertical-align: middle;\n",
       "    }\n",
       "\n",
       "    .dataframe tbody tr th {\n",
       "        vertical-align: top;\n",
       "    }\n",
       "\n",
       "    .dataframe thead th {\n",
       "        text-align: right;\n",
       "    }\n",
       "</style>\n",
       "<table border=\"1\" class=\"dataframe\">\n",
       "  <thead>\n",
       "    <tr style=\"text-align: right;\">\n",
       "      <th></th>\n",
       "      <th>업종</th>\n",
       "      <th>종목코드</th>\n",
       "      <th>종목명</th>\n",
       "    </tr>\n",
       "  </thead>\n",
       "  <tbody>\n",
       "    <tr>\n",
       "      <th>0</th>\n",
       "      <td>코스피</td>\n",
       "      <td>095570</td>\n",
       "      <td>AJ네트웍스</td>\n",
       "    </tr>\n",
       "    <tr>\n",
       "      <th>1</th>\n",
       "      <td>코스피</td>\n",
       "      <td>068400</td>\n",
       "      <td>AJ렌터카</td>\n",
       "    </tr>\n",
       "    <tr>\n",
       "      <th>2</th>\n",
       "      <td>코스피</td>\n",
       "      <td>006840</td>\n",
       "      <td>AK홀딩스</td>\n",
       "    </tr>\n",
       "    <tr>\n",
       "      <th>3</th>\n",
       "      <td>코스피</td>\n",
       "      <td>027410</td>\n",
       "      <td>BGF리테일</td>\n",
       "    </tr>\n",
       "    <tr>\n",
       "      <th>4</th>\n",
       "      <td>코스피</td>\n",
       "      <td>138930</td>\n",
       "      <td>BNK금융지주</td>\n",
       "    </tr>\n",
       "  </tbody>\n",
       "</table>\n",
       "</div>"
      ],
      "text/plain": [
       "    업종    종목코드      종목명\n",
       "0  코스피  095570   AJ네트웍스\n",
       "1  코스피  068400    AJ렌터카\n",
       "2  코스피  006840    AK홀딩스\n",
       "3  코스피  027410   BGF리테일\n",
       "4  코스피  138930  BNK금융지주"
      ]
     },
     "execution_count": 4,
     "metadata": {},
     "output_type": "execute_result"
    }
   ],
   "source": [
    "# save to pandas dataframe\n",
    "pd_data = []\n",
    "rows = body.find_all('tr')\n",
    "for row in rows:\n",
    "    data = row.find_all('td')\n",
    "    if len(data) > 0 and data[1].text == '코스피':\n",
    "        pd_data.append([data[1].text, data[2].text, data[3].text])\n",
    "\n",
    "df_names = pd.DataFrame(pd_data, columns=['업종', '종목코드', '종목명'])\n",
    "df_names.head()"
   ]
  },
  {
   "cell_type": "code",
   "execution_count": 5,
   "metadata": {},
   "outputs": [],
   "source": [
    "api_key = os.getenv('API_KEY')\n",
    "\n",
    "dart = OpenDartReader(api_key)"
   ]
  },
  {
   "cell_type": "code",
   "execution_count": 6,
   "metadata": {},
   "outputs": [
    {
     "data": {
      "text/html": [
       "<div>\n",
       "<style scoped>\n",
       "    .dataframe tbody tr th:only-of-type {\n",
       "        vertical-align: middle;\n",
       "    }\n",
       "\n",
       "    .dataframe tbody tr th {\n",
       "        vertical-align: top;\n",
       "    }\n",
       "\n",
       "    .dataframe thead th {\n",
       "        text-align: right;\n",
       "    }\n",
       "</style>\n",
       "<table border=\"1\" class=\"dataframe\">\n",
       "  <thead>\n",
       "    <tr style=\"text-align: right;\">\n",
       "      <th></th>\n",
       "      <th>업종</th>\n",
       "      <th>종목코드</th>\n",
       "      <th>종목명</th>\n",
       "    </tr>\n",
       "  </thead>\n",
       "  <tbody>\n",
       "    <tr>\n",
       "      <th>665</th>\n",
       "      <td>코스피</td>\n",
       "      <td>168490</td>\n",
       "      <td>한국패러랠</td>\n",
       "    </tr>\n",
       "  </tbody>\n",
       "</table>\n",
       "</div>"
      ],
      "text/plain": [
       "      업종    종목코드    종목명\n",
       "665  코스피  168490  한국패러랠"
      ]
     },
     "execution_count": 6,
     "metadata": {},
     "output_type": "execute_result"
    }
   ],
   "source": [
    "df_names[df_names['종목명'] == '한국패러랠']"
   ]
  },
  {
   "cell_type": "code",
   "execution_count": 7,
   "metadata": {},
   "outputs": [
    {
     "name": "stdout",
     "output_type": "stream",
     "text": [
      "15.688270366610475\n",
      "13.08870417553489\n",
      "9.56985753432632\n"
     ]
    }
   ],
   "source": [
    "df = dart.finstate('삼성전자', 2022)\n",
    "df = df[df[\"fs_div\"] == \"CFS\"]\n",
    "corpfile = df[['account_nm','thstrm_amount','frmtrm_amount','bfefrmtrm_amount']].set_index('account_nm')\n",
    "profit = corpfile.loc['당기순이익'].tolist()\n",
    "capital = corpfile.loc['자본총계'].tolist()\n",
    "for value in profit:\n",
    "    try:\n",
    "        clean_value = int(value.replace(',', ''))\n",
    "        profit = [clean_value if x == value else x for x in profit]\n",
    "    except ValueError as e:\n",
    "        print(f\"Error: {e}\")\n",
    "for value in capital:\n",
    "    try:\n",
    "        clean_value = int(value.replace(',', ''))\n",
    "        capital = [clean_value if x == value else x for x in capital]\n",
    "    except ValueError as e:\n",
    "        print(f\"Error: {e}\")\n",
    "roe_list = []\n",
    "for a in range(3):\n",
    "     print(int(profit[a])/int(capital[a])*100)"
   ]
  },
  {
   "cell_type": "code",
   "execution_count": 13,
   "metadata": {},
   "outputs": [
    {
     "name": "stdout",
     "output_type": "stream",
     "text": [
      "                  thstrm_amount        frmtrm_amount     bfefrmtrm_amount\n",
      "account_nm                                                               \n",
      "유동자산        218,470,581,000,000  218,163,185,000,000  198,215,579,000,000\n",
      "비유동자산       229,953,926,000,000  208,457,973,000,000  180,020,139,000,000\n",
      "자산총계        448,424,507,000,000  426,621,158,000,000  378,235,718,000,000\n",
      "유동부채         78,344,852,000,000   88,117,133,000,000   75,604,351,000,000\n",
      "비유동부채        15,330,051,000,000   33,604,094,000,000   26,683,351,000,000\n",
      "부채총계         93,674,903,000,000  121,721,227,000,000  102,287,702,000,000\n",
      "자본금             897,514,000,000      897,514,000,000      897,514,000,000\n",
      "이익잉여금       337,946,407,000,000  293,064,763,000,000  271,068,211,000,000\n",
      "자본총계        354,749,604,000,000  304,899,931,000,000  275,948,016,000,000\n",
      "매출액         302,231,360,000,000  279,604,799,000,000  236,806,988,000,000\n",
      "영업이익         43,376,630,000,000   51,633,856,000,000   35,993,876,000,000\n",
      "법인세차감전 순이익   46,440,474,000,000   53,351,827,000,000   36,345,117,000,000\n",
      "당기순이익        55,654,077,000,000   39,907,450,000,000   26,407,832,000,000\n",
      "당기순이익(손실)    55,654,077,000,000   39,907,450,000,000   26,407,832,000,000\n"
     ]
    }
   ],
   "source": [
    "print(corpfile)"
   ]
  },
  {
   "cell_type": "code",
   "execution_count": 8,
   "metadata": {},
   "outputs": [],
   "source": [
    "def get_roe(stock_code):\n",
    "    df = dart.finstate(stock_code, 2023)\n",
    "    df = df[df[\"fs_div\"] == \"CFS\"]\n",
    "    corpfile = df[['account_nm','thstrm_amount','frmtrm_amount','bfefrmtrm_amount']].set_index('account_nm')\n",
    "    profit = corpfile.loc['당기순이익'].tolist()\n",
    "    capital = corpfile.loc['자본총계'].tolist()\n",
    "    for value in profit:\n",
    "        try:\n",
    "            clean_value = int(value.replace(',', ''))\n",
    "            profit = [clean_value if x == value else x for x in profit]\n",
    "        except ValueError as e:\n",
    "            print(f\"Error: {e}\")\n",
    "    for value in capital:\n",
    "        try:\n",
    "            clean_value = int(value.replace(',', ''))\n",
    "            capital = [clean_value if x == value else x for x in capital]\n",
    "        except ValueError as e:\n",
    "            print(f\"Error: {e}\")\n",
    "    roe_list = []\n",
    "    for a in range(3):\n",
    "        roe_list.append(int(profit[a])/int(capital[a])*100)\n",
    "    return roe_list[:,:,-1]"
   ]
  },
  {
   "cell_type": "code",
   "execution_count": 9,
   "metadata": {},
   "outputs": [
    {
     "name": "stdout",
     "output_type": "stream",
     "text": [
      "{'OutBlock_1': [{'BAS_DD': '20200102', 'ISU_CD': '088980', 'ISU_NM': '맥쿼리인프라', 'MKT_NM': 'KOSPI', 'SECT_TP_NM': '-', 'TDD_CLSPRC': '11650', 'CMPPREVDD_PRC': '50', 'FLUC_RT': '0.43', 'TDD_OPNPRC': '11600', 'TDD_HGPRC': '11700', 'TDD_LWPRC': '11550', 'ACC_TRDVOL': '941567', 'ACC_TRDVAL': '10946554250', 'MKTCAP': '4066366514400', 'LIST_SHRS': '349044336'}, {'BAS_DD': '20200102', 'ISU_CD': '094800', 'ISU_NM': '맵스리얼티1', 'MKT_NM': 'KOSPI', 'SECT_TP_NM': '-', 'TDD_CLSPRC': '4890', 'CMPPREVDD_PRC': '-55', 'FLUC_RT': '-1.11', 'TDD_OPNPRC': '4985', 'TDD_HGPRC': '4985', 'TDD_LWPRC': '4890', 'ACC_TRDVOL': '113106', 'ACC_TRDVAL': '555882210', 'MKTCAP': '453959878590', 'LIST_SHRS': '92834331'}, {'BAS_DD': '20200102', 'ISU_CD': '204210', 'ISU_NM': '모두투어리츠', 'MKT_NM': 'KOSPI', 'SECT_TP_NM': '-', 'TDD_CLSPRC': '3120', 'CMPPREVDD_PRC': '-10', 'FLUC_RT': '-0.32', 'TDD_OPNPRC': '3165', 'TDD_HGPRC': '3180', 'TDD_LWPRC': '3090', 'ACC_TRDVOL': '3459', 'ACC_TRDVAL': '10698850', 'MKTCAP': '24419662800', 'LIST_SHRS': '7826815'}, {'BAS_DD': '20200102', 'ISU_CD': '096300', 'ISU_NM': '베트남개발1', 'MKT_NM': 'KOSPI', 'SECT_TP_NM': '-', 'TDD_CLSPRC': '357', 'CMPPREVDD_PRC': '1', 'FLUC_RT': '0.28', 'TDD_OPNPRC': '353', 'TDD_HGPRC': '359', 'TDD_LWPRC': '353', 'ACC_TRDVOL': '62624', 'ACC_TRDVAL': '22319427', 'MKTCAP': '46192577361', 'LIST_SHRS': '129390973'}, {'BAS_DD': '20200102', 'ISU_CD': '140910', 'ISU_NM': '에이리츠', 'MKT_NM': 'KOSPI', 'SECT_TP_NM': '-', 'TDD_CLSPRC': '6440', 'CMPPREVDD_PRC': '-120', 'FLUC_RT': '-1.83', 'TDD_OPNPRC': '6490', 'TDD_HGPRC': '6520', 'TDD_LWPRC': '6400', 'ACC_TRDVOL': '25301', 'ACC_TRDVAL': '162937030', 'MKTCAP': '23672853960', 'LIST_SHRS': '3675909'}, {'BAS_DD': '20200102', 'ISU_CD': '900140', 'ISU_NM': '엘브이엠씨홀딩스', 'MKT_NM': 'KOSPI', 'SECT_TP_NM': '-', 'TDD_CLSPRC': '4145', 'CMPPREVDD_PRC': '-15', 'FLUC_RT': '-0.36', 'TDD_OPNPRC': '4160', 'TDD_HGPRC': '4185', 'TDD_LWPRC': '4120', 'ACC_TRDVOL': '46653', 'ACC_TRDVAL': '193338720', 'MKTCAP': '211894219655', 'LIST_SHRS': '51120439'}, {'BAS_DD': '20200102', 'ISU_CD': '099340', 'ISU_NM': '하나니켈1호', 'MKT_NM': 'KOSPI', 'SECT_TP_NM': '-', 'TDD_CLSPRC': '445', 'CMPPREVDD_PRC': '1', 'FLUC_RT': '0.23', 'TDD_OPNPRC': '444', 'TDD_HGPRC': '449', 'TDD_LWPRC': '442', 'ACC_TRDVOL': '52891', 'ACC_TRDVAL': '23455771', 'MKTCAP': '10126509000', 'LIST_SHRS': '22756200'}, {'BAS_DD': '20200102', 'ISU_CD': '099350', 'ISU_NM': '하나니켈2호', 'MKT_NM': 'KOSPI', 'SECT_TP_NM': '-', 'TDD_CLSPRC': '1120', 'CMPPREVDD_PRC': '0', 'FLUC_RT': '0.00', 'TDD_OPNPRC': '1115', 'TDD_HGPRC': '1150', 'TDD_LWPRC': '1110', 'ACC_TRDVOL': '23398', 'ACC_TRDVAL': '26269990', 'MKTCAP': '3678080000', 'LIST_SHRS': '3284000'}, {'BAS_DD': '20200102', 'ISU_CD': '152550', 'ISU_NM': '한국ANKOR유전', 'MKT_NM': 'KOSPI', 'SECT_TP_NM': '-', 'TDD_CLSPRC': '1760', 'CMPPREVDD_PRC': '-15', 'FLUC_RT': '-0.85', 'TDD_OPNPRC': '1775', 'TDD_HGPRC': '1790', 'TDD_LWPRC': '1750', 'ACC_TRDVOL': '52987', 'ACC_TRDVAL': '93049280', 'MKTCAP': '123235200000', 'LIST_SHRS': '70020000'}, {'BAS_DD': '20200102', 'ISU_CD': '168490', 'ISU_NM': '한국패러랠', 'MKT_NM': 'KOSPI', 'SECT_TP_NM': '-', 'TDD_CLSPRC': '2235', 'CMPPREVDD_PRC': '5', 'FLUC_RT': '0.22', 'TDD_OPNPRC': '2230', 'TDD_HGPRC': '2235', 'TDD_LWPRC': '2225', 'ACC_TRDVOL': '10901', 'ACC_TRDVAL': '24276775', 'MKTCAP': '178844700000', 'LIST_SHRS': '80020000'}]}\n"
     ]
    }
   ],
   "source": [
    "url = 'http://data-dbg.krx.co.kr/svc/sample/apis/sto/stk_bydd_trd' + '?basDd=20200102'\n",
    "headers = { 'AUTH_KEY': '74D1B99DFBF345BBA3FB4476510A4BED4C78D13A'}\n",
    "response = requests.get(url, headers=headers)\n",
    "print(response.json())"
   ]
  },
  {
   "cell_type": "code",
   "execution_count": 10,
   "metadata": {},
   "outputs": [
    {
     "name": "stdout",
     "output_type": "stream",
     "text": [
      "088980 맥쿼리인프라\n",
      "094800 맵스리얼티1\n",
      "204210 모두투어리츠\n",
      "096300 베트남개발1\n",
      "140910 에이리츠\n",
      "900140 엘브이엠씨홀딩스\n",
      "099340 하나니켈1호\n",
      "099350 하나니켈2호\n",
      "152550 한국ANKOR유전\n",
      "168490 한국패러랠\n"
     ]
    }
   ],
   "source": [
    "url = 'http://data-dbg.krx.co.kr/svc/sample/apis/sto/stk_bydd_trd' + '?basDd=20200102'\n",
    "headers = { 'AUTH_KEY': '74D1B99DFBF345BBA3FB4476510A4BED4C78D13A'}\n",
    "response = requests.get(url, headers=headers)\n",
    "for stock in response.json()['OutBlock_1']:\n",
    "    print(stock['ISU_CD'], stock['ISU_NM'])"
   ]
  },
  {
   "cell_type": "code",
   "execution_count": 14,
   "metadata": {},
   "outputs": [],
   "source": [
    "def get_per(stock_code):\n",
    "    mkt_cap_list = []\n",
    "    for year in range(2021, 2024):\n",
    "        url = 'http://data-dbg.krx.co.kr/svc/sample/apis/sto/stk_bydd_trd?basDd=' + str(year) +'0102'\n",
    "        headers = { 'AUTH_KEY': '74D1B99DFBF345BBA3FB4476510A4BED4C78D13A'}\n",
    "        response = requests.get(url, headers=headers)\n",
    "        for stock in response.json()['OutBlock_1']:\n",
    "            if stock['ISU_CD'] == stock_code:\n",
    "                mkt_cap_list.append(int(stock['MKT_CAP']))\n",
    "    df = dart.finstate(stock_code, 2023)\n",
    "    df = df[df[\"fs_div\"] == \"CFS\"]\n",
    "    corpfile = df[['account_nm','thstrm_amount','frmtrm_amount','bfefrmtrm_amount']].set_index('account_nm')\n",
    "    profit = corpfile.loc['당기순이익'].tolist()\n",
    "    for value in profit:\n",
    "        try:\n",
    "            clean_value = int(value.replace(',', ''))\n",
    "            profit = [clean_value if x == value else x for x in profit]\n",
    "        except ValueError as e:\n",
    "            print(f\"Error: {e}\")\n",
    "    profit = profit[:, :, -1]\n",
    "    return [mkt_cap_list[a]/int(profit[a]) for a in range(3)]"
   ]
  },
  {
   "cell_type": "code",
   "execution_count": null,
   "metadata": {},
   "outputs": [],
   "source": [
    "def get_profit(stock_code):\n",
    "    df = dart.finstate(stock_code, 2023)\n",
    "    df = df[df[\"fs_div\"] == \"CFS\"]\n",
    "    corpfile = df[['account_nm','thstrm_amount','frmtrm_amount','bfefrmtrm_amount']].set_index('account_nm')\n",
    "    profit = corpfile.loc['당기순이익'].tolist()\n",
    "    for value in profit:\n",
    "        try:\n",
    "            clean_value = int(value.replace(',', ''))\n",
    "            profit = [clean_value if x == value else x for x in profit]\n",
    "        except ValueError as e:\n",
    "            print(f\"Error: {e}\")\n",
    "    return profit[:, :, -1]"
   ]
  },
  {
   "cell_type": "code",
   "execution_count": 16,
   "metadata": {},
   "outputs": [],
   "source": [
    "def find_what_we_want():\n",
    "    for stock_code in df_names['종목코드']:\n",
    "        try:\n",
    "            roe = get_roe(stock_code)\n",
    "            per = get_per(stock_code)\n",
    "            profit = get_profit(stock_code)\n",
    "            if roe[2] > 15 and per[2] < 50 and profit[2] > profit[1] > profit[0]:\n",
    "                print(stock_code, df_names[df_names['종목코드'] == stock_code]['종목명'])\n",
    "        except:\n",
    "            continue"
   ]
  },
  {
   "cell_type": "code",
   "execution_count": null,
   "metadata": {},
   "outputs": [],
   "source": []
  }
 ],
 "metadata": {
  "kernelspec": {
   "display_name": ".venv",
   "language": "python",
   "name": "python3"
  },
  "language_info": {
   "codemirror_mode": {
    "name": "ipython",
    "version": 3
   },
   "file_extension": ".py",
   "mimetype": "text/x-python",
   "name": "python",
   "nbconvert_exporter": "python",
   "pygments_lexer": "ipython3",
   "version": "3.10.13"
  }
 },
 "nbformat": 4,
 "nbformat_minor": 2
}
